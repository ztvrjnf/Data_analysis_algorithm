{
 "cells": [
  {
   "cell_type": "markdown",
   "metadata": {
    "id": "E8jDghg8wbK2"
   },
   "source": [
    "1. Измените функцию calc_logloss так, чтобы нули по возможности не попадали в np.log (как вариант - использовать np.clip или np.where)."
   ]
  },
  {
   "cell_type": "code",
   "execution_count": 1,
   "metadata": {
    "id": "K95T4b_a0GWz"
   },
   "outputs": [],
   "source": [
    "import numpy as np\n",
    "import matplotlib.pyplot as plt\n",
    "import seaborn as sns\n",
    "sns.set(style=\"whitegrid\")\n",
    "sns.set_context(\"paper\", font_scale=2)"
   ]
  },
  {
   "cell_type": "code",
   "execution_count": 2,
   "metadata": {
    "id": "G3pze2af1ln8"
   },
   "outputs": [],
   "source": [
    "def sigmoid(z):\n",
    "    res = 1 / (1 + np.exp(-z))\n",
    "    return res"
   ]
  },
  {
   "cell_type": "code",
   "execution_count": 3,
   "metadata": {
    "id": "om9XF6pawi3y"
   },
   "outputs": [],
   "source": [
    "def calc_logloss(y, y_pred):\n",
    "    y_pred_clipped = np.clip(y_pred, 1e-10, 0.9999999999)\n",
    "    err = np.mean(- y * np.log(y_pred_clipped) - (1.0 - y) * np.log(1.0 - y_pred_clipped))\n",
    "    return err"
   ]
  },
  {
   "cell_type": "code",
   "execution_count": 4,
   "metadata": {
    "colab": {
     "base_uri": "https://localhost:8080/"
    },
    "id": "CMUucnNT1MjK",
    "outputId": "df7a54d6-01ed-4763-fd32-02bed24bcb17"
   },
   "outputs": [
    {
     "data": {
      "text/plain": [
       "array([[1.00e+00, 1.00e+00, 5.00e+02, 1.00e+00],\n",
       "       [1.00e+00, 1.00e+00, 7.00e+02, 1.00e+00],\n",
       "       [1.00e+00, 2.00e+00, 7.50e+02, 2.00e+00],\n",
       "       [1.00e+00, 1.00e+00, 6.00e+02, 1.00e+00],\n",
       "       [1.00e+00, 3.00e+00, 1.45e+03, 2.00e+00],\n",
       "       [1.00e+00, 0.00e+00, 8.00e+02, 1.00e+00],\n",
       "       [1.00e+00, 5.00e+00, 1.50e+03, 3.00e+00],\n",
       "       [1.00e+00, 1.00e+01, 2.00e+03, 3.00e+00],\n",
       "       [1.00e+00, 1.00e+00, 4.50e+02, 1.00e+00],\n",
       "       [1.00e+00, 2.00e+00, 1.00e+03, 2.00e+00]])"
      ]
     },
     "execution_count": 4,
     "metadata": {},
     "output_type": "execute_result"
    }
   ],
   "source": [
    "X = np.array([[1, 1, 1, 1, 1, 1, 1, 1, 1, 1],\n",
    "              [1, 1, 2, 1, 3, 0, 5, 10, 1, 2],  # стаж репетитора\n",
    "              [500, 700, 750, 600, 1450,        # средняя стоимость занятия\n",
    "               800, 1500, 2000, 450, 1000],\n",
    "              [1, 1, 2, 1, 2, 1, 3, 3, 1, 2]],  # квалификация репетитора\n",
    "              dtype = np.float64).T \n",
    "\n",
    "y = np.array([0, 0, 1, 0, 1, 0, 1, 0, 1, 1]) # поступил или нет ученик на специальность Математика\n",
    "X"
   ]
  },
  {
   "cell_type": "code",
   "execution_count": 5,
   "metadata": {
    "colab": {
     "base_uri": "https://localhost:8080/"
    },
    "id": "lnZ6nPap1eTb",
    "outputId": "ec705adf-716e-4edc-9fb0-f45e449643c6"
   },
   "outputs": [
    {
     "data": {
      "text/plain": [
       "array([-0.97958969, -0.56713087, -0.46401617, -0.77336028,  0.97958969,\n",
       "       -0.36090146,  1.08270439,  2.11385144, -1.08270439,  0.05155735])"
      ]
     },
     "execution_count": 5,
     "metadata": {},
     "output_type": "execute_result"
    }
   ],
   "source": [
    "def standard_scaler(x):\n",
    "    res = (x - x.mean()) / x.std()\n",
    "    return res\n",
    "\n",
    "X_st = X.copy()\n",
    "X_st[:, 2] = standard_scaler(X[:, 2])\n",
    "X_st[:, 2]"
   ]
  },
  {
   "cell_type": "code",
   "execution_count": 6,
   "metadata": {
    "id": "r63jTZyu1TEl"
   },
   "outputs": [],
   "source": [
    "def eval_LR_model(X, y, iterations, alpha=1e-4):\n",
    "    np.random.seed(42)\n",
    "    w = np.random.randn(X.shape[1])\n",
    "    n = X.shape[0]\n",
    "    err = 0\n",
    "    for i in range(1, iterations + 1):\n",
    "        z = np.dot(X, w) # log(p/(1-p))\n",
    "        y_pred = sigmoid(z) # p [0, 1]\n",
    "        err = calc_logloss(y, y_pred)\n",
    "        w -= alpha * (1/n * np.dot(X.T, (y_pred - y)))\n",
    "        '''if i % 10 == 0:\n",
    "            print(i, w, err, alpha)'''\n",
    "    return w, err"
   ]
  },
  {
   "cell_type": "markdown",
   "metadata": {
    "id": "zJEMA2zs12mt"
   },
   "source": [
    "2.Подберите аргументы функции eval_LR_model для логистической регрессии таким образом, чтобы log loss был минимальным (оптимально здесь использовать критерий остановки обучения)."
   ]
  },
  {
   "cell_type": "code",
   "execution_count": 7,
   "metadata": {
    "colab": {
     "base_uri": "https://localhost:8080/",
     "height": 408
    },
    "id": "BEBihSfN16Rj",
    "outputId": "b018b0f9-1652-4df2-da42-b7b21cf40ec9"
   },
   "outputs": [
    {
     "name": "stdout",
     "output_type": "stream",
     "text": [
      "[3000, array([-20.15246511,  -2.20833679,  -5.07286862,  16.68110185]), 0.18207622786745659, 1.0]\n"
     ]
    }
   ],
   "source": [
    "diff = 1e-6\n",
    "err = 0\n",
    "err_new = 0\n",
    "res = []\n",
    "for i in range(1000, 3001, 100):\n",
    "    for a in np.linspace(0.01, 1, num=100):\n",
    "        w, err_new = eval_LR_model(X_st, y, i, a)\n",
    "        if (err_new - err) < 1e-6:\n",
    "            res = [i, w, err_new, a]            \n",
    "        err = err_new\n",
    "print(res)"
   ]
  },
  {
   "cell_type": "code",
   "execution_count": 8,
   "metadata": {
    "colab": {
     "base_uri": "https://localhost:8080/"
    },
    "id": "c5zzY-hL1UNm",
    "outputId": "e8f34f2c-3696-45c1-9c12-809911fea6f5"
   },
   "outputs": [],
   "source": [
    "w, err = eval_LR_model(X_st, y, iterations=3000, alpha=1)"
   ]
  },
  {
   "cell_type": "markdown",
   "metadata": {
    "id": "cwZ3K0-mbKiZ"
   },
   "source": [
    "3. Создайте функцию calc_pred_proba, возвращающую предсказанную вероятность класса 1 (на вход подаются значения признаков Х и веса, которые уже посчитаны функцией eval_LR_model, на выходе - массив y_pred_proba)."
   ]
  },
  {
   "cell_type": "code",
   "execution_count": 9,
   "metadata": {
    "id": "F1-5-4NQbJFF"
   },
   "outputs": [],
   "source": [
    "def calc_pred_proba(X ,w):\n",
    "    y = X @ w\n",
    "    proba = sigmoid(y)\n",
    "    return proba"
   ]
  },
  {
   "cell_type": "code",
   "execution_count": 10,
   "metadata": {},
   "outputs": [
    {
     "data": {
      "text/plain": [
       "array([0.32951703, 0.05717739, 0.99998558, 0.14722359, 0.83415954,\n",
       "       0.16238921, 0.99999842, 0.05137714, 0.45331565, 0.99980288])"
      ]
     },
     "execution_count": 10,
     "metadata": {},
     "output_type": "execute_result"
    }
   ],
   "source": [
    "proba = calc_pred_proba(X_st, w)\n",
    "proba"
   ]
  },
  {
   "cell_type": "markdown",
   "metadata": {},
   "source": [
    "4.Создайте функцию calc_pred, возвращающую предсказанный класс (на вход подаются значения признаков Х и веса, которые уже посчитаны функцией eval_LR_model, на выходе - массив y_pred)."
   ]
  },
  {
   "cell_type": "code",
   "execution_count": 11,
   "metadata": {},
   "outputs": [],
   "source": [
    "def calc_pred(X, w):\n",
    "    y_pred_proba = calc_pred_proba(X, w)\n",
    "    for i in range(len(y_pred_proba)):\n",
    "        if y_pred_proba[i] < 0.5:\n",
    "            y_pred_proba[i] = 0\n",
    "        elif y_pred_proba[i] >= 0.5:\n",
    "            y_pred_proba[i] = 1\n",
    "    return y_pred_proba"
   ]
  },
  {
   "cell_type": "code",
   "execution_count": 12,
   "metadata": {},
   "outputs": [
    {
     "data": {
      "text/plain": [
       "array([0., 0., 1., 0., 1., 0., 1., 0., 0., 1.])"
      ]
     },
     "execution_count": 12,
     "metadata": {},
     "output_type": "execute_result"
    }
   ],
   "source": [
    "y_pred = calc_pred(X_st, w)\n",
    "y_pred"
   ]
  },
  {
   "cell_type": "code",
   "execution_count": 13,
   "metadata": {},
   "outputs": [
    {
     "data": {
      "text/plain": [
       "array([0, 0, 1, 0, 1, 0, 1, 0, 1, 1])"
      ]
     },
     "execution_count": 13,
     "metadata": {},
     "output_type": "execute_result"
    }
   ],
   "source": [
    "y"
   ]
  },
  {
   "cell_type": "markdown",
   "metadata": {},
   "source": [
    "5.Посчитайте accuracy, матрицу ошибок, precision и recall, а также F1-score."
   ]
  },
  {
   "cell_type": "code",
   "execution_count": 14,
   "metadata": {},
   "outputs": [
    {
     "name": "stdout",
     "output_type": "stream",
     "text": [
      "Confusion matrix:\n",
      " [[4 0]\n",
      " [1 5]]\n"
     ]
    }
   ],
   "source": [
    "TP = 0\n",
    "TN = 0\n",
    "FP = 0\n",
    "FN = 0\n",
    "\n",
    "for i in range(len(y)):\n",
    "    if y_pred[i] == y[i] == 1:\n",
    "        TP+=1\n",
    "    elif y_pred[i] == 1 and y[i] == 0:\n",
    "        FP+=1\n",
    "    elif y_pred[i] == y[i] == 0:\n",
    "        TN+=1\n",
    "    elif y_pred[i] == 0 and y[i] ==1:\n",
    "        FN+=1\n",
    "print('Confusion matrix:\\n',np.array([[TP, FP],[FN, TN]]))"
   ]
  },
  {
   "cell_type": "code",
   "execution_count": 15,
   "metadata": {},
   "outputs": [
    {
     "name": "stdout",
     "output_type": "stream",
     "text": [
      "Accuracy: 0.9\n"
     ]
    }
   ],
   "source": [
    "accuracy = (TP+TN)/len(y)\n",
    "print(f'Accuracy: {accuracy}')"
   ]
  },
  {
   "cell_type": "code",
   "execution_count": 16,
   "metadata": {},
   "outputs": [
    {
     "name": "stdout",
     "output_type": "stream",
     "text": [
      "Precision: 1.0\n"
     ]
    }
   ],
   "source": [
    "precision = TP/(TP+FP)\n",
    "print(f'Precision: {precision}')"
   ]
  },
  {
   "cell_type": "code",
   "execution_count": 17,
   "metadata": {},
   "outputs": [
    {
     "name": "stdout",
     "output_type": "stream",
     "text": [
      "Recall: 0.8\n"
     ]
    }
   ],
   "source": [
    "recall = TP/(TP+FN)\n",
    "print(f'Recall: {recall}')"
   ]
  },
  {
   "cell_type": "code",
   "execution_count": 18,
   "metadata": {},
   "outputs": [
    {
     "name": "stdout",
     "output_type": "stream",
     "text": [
      "F1 score: 0.888888888888889\n"
     ]
    }
   ],
   "source": [
    "f1_score = (2*precision*recall)/(precision+recall)\n",
    "print(f'F1 score: {f1_score}')"
   ]
  },
  {
   "cell_type": "markdown",
   "metadata": {},
   "source": [
    "6.Могла ли модель переобучиться? Почему?"
   ]
  },
  {
   "cell_type": "markdown",
   "metadata": {},
   "source": [
    "Как и модель линейной регрессии, логистическая подвержена переобучению из-за способности подстраивать коэффициенты под обучающую выборку(минимизируя log-loss) вследствие чего снижается обощающая способность алгоритма."
   ]
  }
 ],
 "metadata": {
  "colab": {
   "authorship_tag": "ABX9TyN9M+zImWOPSQZASyCEFxw+",
   "name": "Lesson_3.ipynb",
   "provenance": []
  },
  "kernelspec": {
   "display_name": "Python 3",
   "language": "python",
   "name": "python3"
  },
  "language_info": {
   "codemirror_mode": {
    "name": "ipython",
    "version": 3
   },
   "file_extension": ".py",
   "mimetype": "text/x-python",
   "name": "python",
   "nbconvert_exporter": "python",
   "pygments_lexer": "ipython3",
   "version": "3.8.5"
  }
 },
 "nbformat": 4,
 "nbformat_minor": 1
}
